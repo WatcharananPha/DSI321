{
 "cells": [
  {
   "cell_type": "code",
   "execution_count": null,
   "metadata": {},
   "outputs": [],
   "source": [
    "import os\n",
    "import pandas as pd\n",
    "import datetime\n",
    "import lakefs_sdk\n",
    "from lakefs_sdk.api import objects_api\n",
    "from dotenv import load_dotenv\n",
    "import pyarrow as pa\n",
    "import pyarrow.parquet as pq"
   ]
  },
  {
   "cell_type": "code",
   "execution_count": null,
   "metadata": {},
   "outputs": [],
   "source": [
    "load_dotenv()\n",
    "\n",
    "LAKEFS_ACCESS_KEY_ID = os.getenv(\"ACCESS_KEY\", \"access_key\")\n",
    "LAKEFS_SECRET_ACCESS_KEY = os.getenv(\"SECRET_KEY\", \"secret_key\")\n",
    "LAKEFS_ENDPOINT_URL = os.getenv(\"LAKEFS_ENDPOINT\", \"http://lakefsdb:8000\")\n",
    "LAKEFS_REPOSITORY = os.getenv(\"LAKEFS_REPOSITORY\", \"egatdata\")\n",
    "LAKEFS_BRANCH = os.getenv(\"LAKEFS_BRANCH\", \"main\")\n",
    "LAKEFS_FILE_PATH = os.getenv(\"LAKEFS_PATH_PARQUET\", \"egat_realtime_power.parquet\")\n",
    "\n",
    "lakefs_storage_options = {\n",
    "    \"key\": LAKEFS_ACCESS_KEY_ID,\n",
    "    \"secret\": LAKEFS_SECRET_ACCESS_KEY,\n",
    "    \"client_kwargs\": {\"endpoint_url\": LAKEFS_ENDPOINT_URL},\n",
    "    \"config_kwargs\": {\"s3\": {\"addressing_style\": \"path\"}}\n",
    "}\n",
    "\n",
    "lakefs_s3_path = f\"s3a://{LAKEFS_REPOSITORY}/{LAKEFS_BRANCH}/{LAKEFS_FILE_PATH}\""
   ]
  },
  {
   "cell_type": "code",
   "execution_count": null,
   "metadata": {},
   "outputs": [],
   "source": [
    "def read_from_lakefs_using_s3fs(lakefs_path=lakefs_s3_path, storage_options=lakefs_storage_options):\n",
    "    return pd.read_parquet(lakefs_path, storage_options=storage_options)\n",
    "\n",
    "def read_from_lakefs_using_sdk(endpoint_url=LAKEFS_ENDPOINT_URL, access_key=LAKEFS_ACCESS_KEY_ID, \n",
    "                              secret_key=LAKEFS_SECRET_ACCESS_KEY, repo=LAKEFS_REPOSITORY, \n",
    "                              branch=LAKEFS_BRANCH, file_path=LAKEFS_FILE_PATH):\n",
    "    configuration = lakefs_sdk.Configuration()\n",
    "    configuration.host = endpoint_url\n",
    "    configuration.username = access_key\n",
    "    configuration.password = secret_key\n",
    "    client = lakefs_sdk.ApiClient(configuration)\n",
    "    objects = objects_api.ObjectsApi(client)\n",
    "    obj = objects.get_object(repository=repo, ref=branch, path=file_path)\n",
    "    temp_file = 'temp_data.parquet'\n",
    "    with open(temp_file, 'wb') as f:\n",
    "        f.write(obj.read())\n",
    "    df = pd.read_parquet(temp_file)\n",
    "    os.remove(temp_file)\n",
    "    return df"
   ]
  },
  {
   "cell_type": "code",
   "execution_count": null,
   "metadata": {},
   "outputs": [],
   "source": [
    "def save_to_local_parquet(df, file_path=None):\n",
    "    if file_path is None:\n",
    "        timestamp = datetime.datetime.now().strftime(\"%Y%m%d_%H%M%S\")\n",
    "        file_path = f\"local_egat_data_{timestamp}.parquet\"\n",
    "    df.to_parquet(file_path, index=False)\n",
    "    return os.path.getsize(file_path)\n",
    "\n",
    "def filter_and_save_data(df, filter_date=None):\n",
    "    if 'scrape_time' in df.columns:\n",
    "        df['scrape_time'] = pd.to_datetime(df['scrape_time'])\n",
    "        if filter_date:\n",
    "            filter_date = pd.to_datetime(filter_date).date()\n",
    "            df = df[df['scrape_time'].dt.date == filter_date]\n",
    "    filter_text = f\"_{filter_date}\" if filter_date else \"\"\n",
    "    file_path = f\"filtered_data{filter_text}.parquet\"\n",
    "    save_to_local_parquet(df, file_path)\n",
    "\n",
    "def save_with_pyarrow(df, file_path=None):\n",
    "    if file_path is None:\n",
    "        timestamp = datetime.datetime.now().strftime(\"%Y%m%d_%H%M%S\")\n",
    "        file_path = f\"pyarrow_egat_data_{timestamp}.parquet\"\n",
    "    table = pa.Table.from_pandas(df)\n",
    "    pq.write_table(table, file_path, compression='snappy', use_dictionary=True,\n",
    "                   version='2.6', data_page_size=1024*1024)\n",
    "    return os.path.getsize(file_path)"
   ]
  }
 ],
 "metadata": {
  "kernelspec": {
   "display_name": "Python 3",
   "language": "python",
   "name": "python3"
  },
  "language_info": {
   "codemirror_mode": {
    "name": "ipython",
    "version": 3
   },
   "file_extension": ".py",
   "mimetype": "text/x-python",
   "name": "python",
   "nbconvert_exporter": "python",
   "pygments_lexer": "ipython3",
   "version": "3.12.8"
  }
 },
 "nbformat": 4,
 "nbformat_minor": 4
}
